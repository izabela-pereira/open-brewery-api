{
 "cells": [
  {
   "cell_type": "markdown",
   "metadata": {
    "application/vnd.databricks.v1+cell": {
     "cellMetadata": {
      "byteLimit": 2048000,
      "rowLimit": 10000
     },
     "inputWidgets": {},
     "nuid": "60a2c31e-80b9-4cba-b2b6-4b949d11e51b",
     "showTitle": false,
     "tableResultSettingsMap": {},
     "title": ""
    }
   },
   "source": [
    "### O trecho abaixo traz as informações das external location criadas para interação com o Datalake"
   ]
  },
  {
   "cell_type": "code",
   "execution_count": 0,
   "metadata": {
    "application/vnd.databricks.v1+cell": {
     "cellMetadata": {
      "byteLimit": 2048000,
      "rowLimit": 10000
     },
     "inputWidgets": {},
     "nuid": "085a1b43-2cb0-4d0d-acf7-9d36d0ff039e",
     "showTitle": false,
     "tableResultSettingsMap": {},
     "title": ""
    }
   },
   "outputs": [],
   "source": [
    "bronze_adls = \"abfss://bronze-layer@medallionapistorage.dfs.core.windows.net/\"\n",
    "silver_adls = \"abfss://silver-layer@medallionapistorage.dfs.core.windows.net/\""
   ]
  },
  {
   "cell_type": "markdown",
   "metadata": {
    "application/vnd.databricks.v1+cell": {
     "cellMetadata": {
      "byteLimit": 2048000,
      "rowLimit": 10000
     },
     "inputWidgets": {},
     "nuid": "2f471493-678a-436d-9cdc-bd6cd7993d8e",
     "showTitle": false,
     "tableResultSettingsMap": {},
     "title": ""
    }
   },
   "source": [
    "### Camada de transformação do dado carregado da API"
   ]
  },
  {
   "cell_type": "code",
   "execution_count": 0,
   "metadata": {
    "application/vnd.databricks.v1+cell": {
     "cellMetadata": {
      "byteLimit": 2048000,
      "rowLimit": 10000
     },
     "inputWidgets": {},
     "nuid": "3af7760c-1887-429a-958c-46d529e5e94b",
     "showTitle": false,
     "tableResultSettingsMap": {},
     "title": ""
    }
   },
   "outputs": [],
   "source": [
    "import datetime \n",
    "from pyspark.sql import SparkSession\n",
    "from pyspark.sql.functions import col, isnull, when, current_timestamp, date_format, trim, initcap, upper\n",
    "from pyspark.sql.types import StructType, StructField, StringType, DoubleType\n",
    "\n",
    "# Cria uma SparkSession\n",
    "spark = SparkSession.builder.appName(\"Open Brewery\").getOrCreate()"
   ]
  },
  {
   "cell_type": "code",
   "execution_count": 0,
   "metadata": {
    "application/vnd.databricks.v1+cell": {
     "cellMetadata": {
      "byteLimit": 2048000,
      "rowLimit": 10000
     },
     "inputWidgets": {},
     "nuid": "333cbaa3-3d06-4ff5-a595-b9d3aeb0b63f",
     "showTitle": false,
     "tableResultSettingsMap": {},
     "title": ""
    }
   },
   "outputs": [],
   "source": [
    "schema = StructType([\n",
    "    StructField(\"id\", StringType(), True),\n",
    "    StructField(\"name\", StringType(), True),\n",
    "    StructField(\"address_1\", StringType(), True),\n",
    "    StructField(\"address_2\", StringType(), True),\n",
    "    StructField(\"address_3\", StringType(), True),\n",
    "    StructField(\"brewery_type\", StringType(), True),\n",
    "    StructField(\"city\", StringType(), True),\n",
    "    StructField(\"state\", StringType(), True),\n",
    "    StructField(\"state_province\", StringType(), True),\n",
    "    StructField(\"street\", StringType(), True),\n",
    "    StructField(\"country\", StringType(), True),\n",
    "    StructField(\"latitude\", DoubleType(), True),\n",
    "    StructField(\"longitude\", DoubleType(), True),\n",
    "    StructField(\"phone\", StringType(), True),\n",
    "    StructField(\"postal_code\", StringType(), True),\n",
    "    StructField(\"website_url\", StringType(), True),\n",
    "])\n",
    "\n",
    "# Cria dataframe spark com os dados persistidos na camada bronze\n",
    "df_silver = spark.read.schema(schema).json(f'{bronze_adls}open_breweries_raw.json')\n",
    "#print(df.dtypes)"
   ]
  },
  {
   "cell_type": "code",
   "execution_count": 0,
   "metadata": {
    "application/vnd.databricks.v1+cell": {
     "cellMetadata": {
      "byteLimit": 2048000,
      "rowLimit": 10000
     },
     "inputWidgets": {},
     "nuid": "800f3ccf-767a-4589-8cd7-b60ac047fc03",
     "showTitle": false,
     "tableResultSettingsMap": {},
     "title": ""
    }
   },
   "outputs": [],
   "source": [
    "# Transformação dos dados (limpeza, substituição de nulos e padronização de strings)\n",
    "\n",
    "#DROP COLUNA POSSIVELMENTE DUPLICADA \n",
    "# Drop da coluna state_province (importante validar alteração com área de negócios)\n",
    "df_silver= df_silver.drop(\"state_province\")\n",
    "\n",
    "# REMOÇÃO DE DUPLICATAS\n",
    "df_silver = df_silver.dropDuplicates()\n",
    "\n",
    "# SUBSTITUIÇÃO DE NULOS\n",
    "# Substituição de valores nulos por zero quando double e NA quando string\n",
    "df_silver = (\n",
    "        df_silver.withColumn('latitude', when(isnull(col('latitude')), 0).otherwise(col('latitude')))\n",
    "        .withColumn('longitude', when(isnull(col('longitude')), 0).otherwise(col('longitude')))\n",
    "        .withColumn('address_1', when(isnull(col('address_1')), 'NA').otherwise(col('address_1')))\n",
    "        .withColumn('address_2', when(isnull(col('address_2')), 'NA').otherwise(col('address_2')))\n",
    "        .withColumn('address_3', when(isnull(col('address_3')), 'NA').otherwise(col('address_3')))\n",
    "        .withColumn('phone', when(isnull(col('phone')), 'NA').otherwise(col('phone')))\n",
    "        .withColumn('website_url', when(isnull(col('website_url')), 'NA').otherwise(col('website_url')))\n",
    "        .withColumn('street', when(isnull(col('street')), 'NA').otherwise(col('street')))\n",
    ")\n",
    "\n",
    "#PADRONIZAÇÃO DOS VALORES STRING\n",
    "#Ajuste dos valores string para remover espaços identificados nas colunas country e state e ajustar capitalização\n",
    "df_silver = (\n",
    "    df_silver\n",
    "    .withColumn(\"country\",trim(col(\"country\")))\n",
    "    .withColumn(\"country\", initcap(col(\"country\")))\n",
    "    .withColumn(\"state\",trim(col(\"state\")))\n",
    "    .withColumn(\"state\",upper(col(\"state\")))\n",
    ")\n",
    "\n",
    "\n",
    "# ADIÇÃO DE COLUNA COM DATETIME DA CARGA\n",
    "# Adição de coluna dat_load para auditoria dos dados\n",
    "df_silver = df_silver.withColumn('dat_load', date_format(current_timestamp(), \"yyyy-MM-dd HH:mm:ss\"))\n",
    "\n",
    "# Verifica o df após transformações\n",
    "#display(df_silver)\n",
    "\n",
    "# SALVA O DF NO FORMATO DELTA NA CAMADA SILVER\n",
    "# Indica o caminho para persistir os dados\n",
    "delta_path = f\"{silver_adls}open_breweries_delta\"\n",
    "\n",
    "# Salva os dados no formato delta\n",
    "(\n",
    "    df_silver\n",
    "    .write\n",
    "    .mode(\"overwrite\")\n",
    "    .format(\"delta\")\n",
    "    .partitionBy(\"country\", \"state\")\n",
    "    .save(delta_path)\n",
    ")\n",
    "\n",
    "print('Dados transformados e salvos na camada silver')\n"
   ]
  },
  {
   "cell_type": "code",
   "execution_count": 0,
   "metadata": {
    "application/vnd.databricks.v1+cell": {
     "cellMetadata": {
      "byteLimit": 2048000,
      "rowLimit": 10000
     },
     "inputWidgets": {},
     "nuid": "c24874bc-9dea-4a74-add8-bc2ec4bb379b",
     "showTitle": false,
     "tableResultSettingsMap": {},
     "title": ""
    }
   },
   "outputs": [],
   "source": [
    "# Cria tabela para testes de qualidade de dados com dbt\n",
    "spark.sql(f\"\"\" \n",
    "    CREATE TABLE IF NOT EXISTS brewery.default.open_brewery_silver\n",
    "    USING DELTA\n",
    "    LOCATION '{delta_path}'\n",
    "\"\"\")\n",
    "\n",
    "# Verifica a criação da tabela\n",
    "#spark.sql(\"SHOW TABLES\").show()"
   ]
  }
 ],
 "metadata": {
  "application/vnd.databricks.v1+notebook": {
   "computePreferences": null,
   "dashboards": [],
   "environmentMetadata": {
    "base_environment": "",
    "environment_version": "3"
   },
   "inputWidgetPreferences": null,
   "language": "python",
   "notebookMetadata": {
    "pythonIndentUnit": 4
   },
   "notebookName": "silverlayer",
   "widgets": {}
  },
  "language_info": {
   "name": "python"
  }
 },
 "nbformat": 4,
 "nbformat_minor": 0
}
