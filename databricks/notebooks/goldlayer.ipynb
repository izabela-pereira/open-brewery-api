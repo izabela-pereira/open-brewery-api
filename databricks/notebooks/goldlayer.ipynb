{
 "cells": [
  {
   "cell_type": "code",
   "execution_count": 0,
   "metadata": {
    "application/vnd.databricks.v1+cell": {
     "cellMetadata": {
      "byteLimit": 2048000,
      "rowLimit": 10000
     },
     "inputWidgets": {},
     "nuid": "ff33efbf-b507-4237-afaf-0222c618ff11",
     "showTitle": false,
     "tableResultSettingsMap": {},
     "title": ""
    }
   },
   "outputs": [],
   "source": [
    "silver_adls = \"abfss://silver-layer@medallionapistorage.dfs.core.windows.net/\"\n",
    "gold_adls = \"abfss://gold-layer@medallionapistorage.dfs.core.windows.net/\""
   ]
  },
  {
   "cell_type": "code",
   "execution_count": 0,
   "metadata": {
    "application/vnd.databricks.v1+cell": {
     "cellMetadata": {
      "byteLimit": 2048000,
      "rowLimit": 10000
     },
     "inputWidgets": {},
     "nuid": "3b82400f-bc15-40c7-bd7c-18809bf36ab1",
     "showTitle": false,
     "tableResultSettingsMap": {},
     "title": ""
    }
   },
   "outputs": [],
   "source": [
    "import datetime \n",
    "from pyspark.sql import SparkSession\n",
    "from pyspark.sql.functions import col, count\n",
    "\n",
    "# Criando uma SparkSession\n",
    "spark = SparkSession.builder.appName(\"Open Brewery\").getOrCreate()\n"
   ]
  },
  {
   "cell_type": "code",
   "execution_count": 0,
   "metadata": {
    "application/vnd.databricks.v1+cell": {
     "cellMetadata": {
      "byteLimit": 2048000,
      "rowLimit": 10000
     },
     "inputWidgets": {},
     "nuid": "4bd18b8b-7388-46b5-8ba5-1720c1538663",
     "showTitle": false,
     "tableResultSettingsMap": {},
     "title": ""
    }
   },
   "outputs": [],
   "source": [
    "#Cria dataframe spark com os dados persistidos no formato delta e particionados na camada silver\n",
    "df = spark.read.format(\"delta\").load(f\"{silver_adls}open_breweries_delta\")\n",
    "#display(df)"
   ]
  },
  {
   "cell_type": "code",
   "execution_count": 0,
   "metadata": {
    "application/vnd.databricks.v1+cell": {
     "cellMetadata": {
      "byteLimit": 2048000,
      "rowLimit": 10000
     },
     "inputWidgets": {},
     "nuid": "ca3303ce-0b63-4fea-ab69-257a73fa27c7",
     "showTitle": false,
     "tableResultSettingsMap": {},
     "title": ""
    }
   },
   "outputs": [],
   "source": [
    "#Agrega os valores por tipo de cervejaria, cidade, estado e país\n",
    "df_gold = (\n",
    "    df.groupBy(\"country\", \"state\", \"city\", \"brewery_type\")\n",
    "    .count().alias(\"breweries_qty\")\n",
    "    .withColumnRenamed(\"count\", \"breweries_qty\")\n",
    "    .orderBy(\"country\", \"state\", \"city\", \"brewery_type\")\n",
    "    )\n",
    "\n",
    "#display(df_gold)\n",
    "\n",
    "#Salva o dataframe com os dados agregados na camada gold, no formato delta\n",
    "#Indica o caminho para persistir os dados\n",
    "delta_path = f\"{gold_adls}open_breweries_agg\"\n",
    "\n",
    "#Salva os dados no formato delta\n",
    "(\n",
    "    df_gold\n",
    "    .write\n",
    "    .mode(\"overwrite\")\n",
    "    .format(\"delta\")\n",
    "    .partitionBy(\"country\", \"state\")\n",
    "    .save(delta_path)\n",
    ")\n",
    "\n",
    "print('Dados agregados salvos na camada gold')\n",
    "\n",
    "# Cria tabela delta para facilitar visualização e consulta dos dados\n",
    "(\n",
    "    df_gold\n",
    "    .write \n",
    "    .format(\"delta\") \n",
    "    .mode(\"overwrite\") \n",
    "    .option(\"path\", delta_path) \n",
    "    .saveAsTable(\"brewery.default.open_brewery_agg\")\n",
    ")\n"
   ]
  }
 ],
 "metadata": {
  "application/vnd.databricks.v1+notebook": {
   "computePreferences": null,
   "dashboards": [],
   "environmentMetadata": {
    "base_environment": "",
    "environment_version": "3"
   },
   "inputWidgetPreferences": null,
   "language": "python",
   "notebookMetadata": {
    "pythonIndentUnit": 4
   },
   "notebookName": "goldlayer",
   "widgets": {}
  },
  "language_info": {
   "name": "python"
  }
 },
 "nbformat": 4,
 "nbformat_minor": 0
}
